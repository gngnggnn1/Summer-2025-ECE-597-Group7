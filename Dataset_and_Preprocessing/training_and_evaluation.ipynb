{
 "cells": [
  {
   "cell_type": "code",
   "execution_count": 1,
   "id": "16e275ea",
   "metadata": {},
   "outputs": [
    {
     "name": "stdout",
     "output_type": "stream",
     "text": [
      "Dataset 'ready_for_training.csv' loaded successfully!\n",
      "Dataset contains 12880 rows.\n"
     ]
    },
    {
     "data": {
      "application/vnd.microsoft.datawrangler.viewer.v0+json": {
       "columns": [
        {
         "name": "index",
         "rawType": "int64",
         "type": "integer"
        },
        {
         "name": "num_hyperlinks",
         "rawType": "int64",
         "type": "integer"
        },
        {
         "name": "num_suspicious_links",
         "rawType": "int64",
         "type": "integer"
        },
        {
         "name": "num_ip_urls",
         "rawType": "int64",
         "type": "integer"
        },
        {
         "name": "body_char_count",
         "rawType": "float64",
         "type": "float"
        },
        {
         "name": "subject_char_count",
         "rawType": "float64",
         "type": "float"
        },
        {
         "name": "urgency_keyword_count",
         "rawType": "int64",
         "type": "integer"
        },
        {
         "name": "num_capital_words",
         "rawType": "int64",
         "type": "integer"
        },
        {
         "name": "special_char_ratio",
         "rawType": "float64",
         "type": "float"
        },
        {
         "name": "has_javascript",
         "rawType": "int64",
         "type": "integer"
        },
        {
         "name": "has_form_tag",
         "rawType": "int64",
         "type": "integer"
        },
        {
         "name": "processed_text",
         "rawType": "object",
         "type": "string"
        },
        {
         "name": "label",
         "rawType": "int64",
         "type": "integer"
        }
       ],
       "ref": "239d6c37-7f29-4870-8026-904d013760da",
       "rows": [
        [
         "0",
         "0",
         "0",
         "0",
         "1262.0",
         "51.0",
         "0",
         "0",
         "0.1324200912234245",
         "0",
         "0",
         "start date hourahead hour start date hourahead hour ancillary schedule awarded variance detected variance detected generation schedule variance detected sc trade schedule variance detected load schedule log message parsing file portland westdesk california scheduling iso final schedule txt generation schedule variance found table detail hour preferred final final tosco sc trade schedule variance found table detail hour preferred final final epmi engy load schedule variance found table tblloads detail hour preferred final final epmi variance found table tblloads detail hour preferred final final epmi",
         "0"
        ],
        [
         "1",
         "1",
         "0",
         "0",
         "330.0",
         "21.0",
         "0",
         "0",
         "0.0482954544082515",
         "0",
         "0",
         "league site available league site set site last year please take time change team name logo addition new player rule listed site let know question league abbreviation kourn http commissioner com mp splash join mgmt eric",
         "0"
        ],
        [
         "2",
         "18",
         "0",
         "0",
         "3128.0",
         "42.0",
         "3",
         "0",
         "0.0864080731357905",
         "0",
         "0",
         "urgent autopay payment unsuccessful http www telstra com au content dam tcom apps message rnms emailheaders topbar blue jpg telstra logo autopay payment unsuccessful dear valued costumer sending message inform unable process payment last owing bill attempt made take payment fix problem avoid late fee need sign update credit card account access account best regard employee number always help telstra telstra help support help support telstra app telstra app http www telstra com au content dam tcom apps message rnms emailfooters facebook png http www telstra com au content dam tcom apps message rnms emailfooters linkedin png http www telstra com au content dam tcom apps message rnms emailfooters twitter png http www telstra com au content dam tcom apps message rnms emailfooters youtube png privacy customer term content email strictly confidential intended recipient please delete message system email sent era clothing raymond boulevard newark nj u update profile",
         "1"
        ],
        [
         "3",
         "0",
         "0",
         "0",
         "700.0",
         "39.0",
         "0",
         "0",
         "0.0716216215248356",
         "0",
         "0",
         "midwest power team lotus note access tana would please request lotus note access individual listed thanks sara sara shackleton enron north america corp smith street eb houston texas phone fax sara shackleton enron com forwarded sara shackleton hou ect pm karla compean pm sara shackleton hou ect ect cc subject midwest power team please find list name karla compean analyst mike e kelly associate doug sewell manager ed baughman vp terri clynes director oscar dalton director gary justice analyst steve wang manager thank karla compean",
         "0"
        ],
        [
         "4",
         "0",
         "0",
         "0",
         "305.0",
         "13.0",
         "0",
         "0",
         "0.0313479622841756",
         "0",
         "0",
         "mitsui cacs hello please find attached cacs need approved soon possible please send acceptance email one per group final document already sent question please contact many thanks ian",
         "0"
        ]
       ],
       "shape": {
        "columns": 12,
        "rows": 5
       }
      },
      "text/html": [
       "<div>\n",
       "<style scoped>\n",
       "    .dataframe tbody tr th:only-of-type {\n",
       "        vertical-align: middle;\n",
       "    }\n",
       "\n",
       "    .dataframe tbody tr th {\n",
       "        vertical-align: top;\n",
       "    }\n",
       "\n",
       "    .dataframe thead th {\n",
       "        text-align: right;\n",
       "    }\n",
       "</style>\n",
       "<table border=\"1\" class=\"dataframe\">\n",
       "  <thead>\n",
       "    <tr style=\"text-align: right;\">\n",
       "      <th></th>\n",
       "      <th>num_hyperlinks</th>\n",
       "      <th>num_suspicious_links</th>\n",
       "      <th>num_ip_urls</th>\n",
       "      <th>body_char_count</th>\n",
       "      <th>subject_char_count</th>\n",
       "      <th>urgency_keyword_count</th>\n",
       "      <th>num_capital_words</th>\n",
       "      <th>special_char_ratio</th>\n",
       "      <th>has_javascript</th>\n",
       "      <th>has_form_tag</th>\n",
       "      <th>processed_text</th>\n",
       "      <th>label</th>\n",
       "    </tr>\n",
       "  </thead>\n",
       "  <tbody>\n",
       "    <tr>\n",
       "      <th>0</th>\n",
       "      <td>0</td>\n",
       "      <td>0</td>\n",
       "      <td>0</td>\n",
       "      <td>1262.0</td>\n",
       "      <td>51.0</td>\n",
       "      <td>0</td>\n",
       "      <td>0</td>\n",
       "      <td>0.132420</td>\n",
       "      <td>0</td>\n",
       "      <td>0</td>\n",
       "      <td>start date hourahead hour start date hourahead...</td>\n",
       "      <td>0</td>\n",
       "    </tr>\n",
       "    <tr>\n",
       "      <th>1</th>\n",
       "      <td>1</td>\n",
       "      <td>0</td>\n",
       "      <td>0</td>\n",
       "      <td>330.0</td>\n",
       "      <td>21.0</td>\n",
       "      <td>0</td>\n",
       "      <td>0</td>\n",
       "      <td>0.048295</td>\n",
       "      <td>0</td>\n",
       "      <td>0</td>\n",
       "      <td>league site available league site set site las...</td>\n",
       "      <td>0</td>\n",
       "    </tr>\n",
       "    <tr>\n",
       "      <th>2</th>\n",
       "      <td>18</td>\n",
       "      <td>0</td>\n",
       "      <td>0</td>\n",
       "      <td>3128.0</td>\n",
       "      <td>42.0</td>\n",
       "      <td>3</td>\n",
       "      <td>0</td>\n",
       "      <td>0.086408</td>\n",
       "      <td>0</td>\n",
       "      <td>0</td>\n",
       "      <td>urgent autopay payment unsuccessful http www t...</td>\n",
       "      <td>1</td>\n",
       "    </tr>\n",
       "    <tr>\n",
       "      <th>3</th>\n",
       "      <td>0</td>\n",
       "      <td>0</td>\n",
       "      <td>0</td>\n",
       "      <td>700.0</td>\n",
       "      <td>39.0</td>\n",
       "      <td>0</td>\n",
       "      <td>0</td>\n",
       "      <td>0.071622</td>\n",
       "      <td>0</td>\n",
       "      <td>0</td>\n",
       "      <td>midwest power team lotus note access tana woul...</td>\n",
       "      <td>0</td>\n",
       "    </tr>\n",
       "    <tr>\n",
       "      <th>4</th>\n",
       "      <td>0</td>\n",
       "      <td>0</td>\n",
       "      <td>0</td>\n",
       "      <td>305.0</td>\n",
       "      <td>13.0</td>\n",
       "      <td>0</td>\n",
       "      <td>0</td>\n",
       "      <td>0.031348</td>\n",
       "      <td>0</td>\n",
       "      <td>0</td>\n",
       "      <td>mitsui cacs hello please find attached cacs ne...</td>\n",
       "      <td>0</td>\n",
       "    </tr>\n",
       "  </tbody>\n",
       "</table>\n",
       "</div>"
      ],
      "text/plain": [
       "   num_hyperlinks  num_suspicious_links  num_ip_urls  body_char_count  \\\n",
       "0               0                     0            0           1262.0   \n",
       "1               1                     0            0            330.0   \n",
       "2              18                     0            0           3128.0   \n",
       "3               0                     0            0            700.0   \n",
       "4               0                     0            0            305.0   \n",
       "\n",
       "   subject_char_count  urgency_keyword_count  num_capital_words  \\\n",
       "0                51.0                      0                  0   \n",
       "1                21.0                      0                  0   \n",
       "2                42.0                      3                  0   \n",
       "3                39.0                      0                  0   \n",
       "4                13.0                      0                  0   \n",
       "\n",
       "   special_char_ratio  has_javascript  has_form_tag  \\\n",
       "0            0.132420               0             0   \n",
       "1            0.048295               0             0   \n",
       "2            0.086408               0             0   \n",
       "3            0.071622               0             0   \n",
       "4            0.031348               0             0   \n",
       "\n",
       "                                      processed_text  label  \n",
       "0  start date hourahead hour start date hourahead...      0  \n",
       "1  league site available league site set site las...      0  \n",
       "2  urgent autopay payment unsuccessful http www t...      1  \n",
       "3  midwest power team lotus note access tana woul...      0  \n",
       "4  mitsui cacs hello please find attached cacs ne...      0  "
      ]
     },
     "metadata": {},
     "output_type": "display_data"
    }
   ],
   "source": [
    "import pandas as pd\n",
    "import numpy as np\n",
    "import matplotlib.pyplot as plt\n",
    "import seaborn as sns\n",
    "\n",
    "# Feature Engineering tools\n",
    "from sklearn.feature_extraction.text import TfidfVectorizer\n",
    "from sklearn.compose import ColumnTransformer\n",
    "from sklearn.pipeline import Pipeline\n",
    "\n",
    "# Model Training and Splitting\n",
    "from sklearn.model_selection import train_test_split\n",
    "\n",
    "# Models\n",
    "from sklearn.linear_model import LogisticRegression\n",
    "from sklearn.naive_bayes import MultinomialNB\n",
    "from sklearn.ensemble import RandomForestClassifier\n",
    "\n",
    "# Evaluation Metrics\n",
    "from sklearn.metrics import roc_auc_score, balanced_accuracy_score, confusion_matrix, ConfusionMatrixDisplay\n",
    "\n",
    "# --- Load your prepared dataset ---\n",
    "try:\n",
    "    df = pd.read_csv('ready_for_training.csv')\n",
    "    print(\"Dataset 'ready_for_training.csv' loaded successfully!\")\n",
    "    print(f\"Dataset contains {len(df)} rows.\")\n",
    "    # Fill any potential NaN values in processed_text, just in case\n",
    "    df['processed_text'] = df['processed_text'].fillna('')\n",
    "except FileNotFoundError:\n",
    "    print(\"FATAL ERROR: 'ready_for_training.csv' not found. Please ensure it's in the same folder.\")\n",
    "\n",
    "# Display the first few rows to confirm\n",
    "display(df.head())"
   ]
  },
  {
   "cell_type": "code",
   "execution_count": 2,
   "id": "281e85db",
   "metadata": {},
   "outputs": [
    {
     "name": "stdout",
     "output_type": "stream",
     "text": [
      "Features (X):\n"
     ]
    },
    {
     "data": {
      "application/vnd.microsoft.datawrangler.viewer.v0+json": {
       "columns": [
        {
         "name": "index",
         "rawType": "int64",
         "type": "integer"
        },
        {
         "name": "num_hyperlinks",
         "rawType": "int64",
         "type": "integer"
        },
        {
         "name": "num_suspicious_links",
         "rawType": "int64",
         "type": "integer"
        },
        {
         "name": "num_ip_urls",
         "rawType": "int64",
         "type": "integer"
        },
        {
         "name": "body_char_count",
         "rawType": "float64",
         "type": "float"
        },
        {
         "name": "subject_char_count",
         "rawType": "float64",
         "type": "float"
        },
        {
         "name": "urgency_keyword_count",
         "rawType": "int64",
         "type": "integer"
        },
        {
         "name": "num_capital_words",
         "rawType": "int64",
         "type": "integer"
        },
        {
         "name": "special_char_ratio",
         "rawType": "float64",
         "type": "float"
        },
        {
         "name": "has_javascript",
         "rawType": "int64",
         "type": "integer"
        },
        {
         "name": "has_form_tag",
         "rawType": "int64",
         "type": "integer"
        },
        {
         "name": "processed_text",
         "rawType": "object",
         "type": "string"
        }
       ],
       "ref": "129b5ba4-b4ac-4ec7-b91f-269a4ac279cc",
       "rows": [
        [
         "0",
         "0",
         "0",
         "0",
         "1262.0",
         "51.0",
         "0",
         "0",
         "0.1324200912234245",
         "0",
         "0",
         "start date hourahead hour start date hourahead hour ancillary schedule awarded variance detected variance detected generation schedule variance detected sc trade schedule variance detected load schedule log message parsing file portland westdesk california scheduling iso final schedule txt generation schedule variance found table detail hour preferred final final tosco sc trade schedule variance found table detail hour preferred final final epmi engy load schedule variance found table tblloads detail hour preferred final final epmi variance found table tblloads detail hour preferred final final epmi"
        ],
        [
         "1",
         "1",
         "0",
         "0",
         "330.0",
         "21.0",
         "0",
         "0",
         "0.0482954544082515",
         "0",
         "0",
         "league site available league site set site last year please take time change team name logo addition new player rule listed site let know question league abbreviation kourn http commissioner com mp splash join mgmt eric"
        ],
        [
         "2",
         "18",
         "0",
         "0",
         "3128.0",
         "42.0",
         "3",
         "0",
         "0.0864080731357905",
         "0",
         "0",
         "urgent autopay payment unsuccessful http www telstra com au content dam tcom apps message rnms emailheaders topbar blue jpg telstra logo autopay payment unsuccessful dear valued costumer sending message inform unable process payment last owing bill attempt made take payment fix problem avoid late fee need sign update credit card account access account best regard employee number always help telstra telstra help support help support telstra app telstra app http www telstra com au content dam tcom apps message rnms emailfooters facebook png http www telstra com au content dam tcom apps message rnms emailfooters linkedin png http www telstra com au content dam tcom apps message rnms emailfooters twitter png http www telstra com au content dam tcom apps message rnms emailfooters youtube png privacy customer term content email strictly confidential intended recipient please delete message system email sent era clothing raymond boulevard newark nj u update profile"
        ],
        [
         "3",
         "0",
         "0",
         "0",
         "700.0",
         "39.0",
         "0",
         "0",
         "0.0716216215248356",
         "0",
         "0",
         "midwest power team lotus note access tana would please request lotus note access individual listed thanks sara sara shackleton enron north america corp smith street eb houston texas phone fax sara shackleton enron com forwarded sara shackleton hou ect pm karla compean pm sara shackleton hou ect ect cc subject midwest power team please find list name karla compean analyst mike e kelly associate doug sewell manager ed baughman vp terri clynes director oscar dalton director gary justice analyst steve wang manager thank karla compean"
        ],
        [
         "4",
         "0",
         "0",
         "0",
         "305.0",
         "13.0",
         "0",
         "0",
         "0.0313479622841756",
         "0",
         "0",
         "mitsui cacs hello please find attached cacs need approved soon possible please send acceptance email one per group final document already sent question please contact many thanks ian"
        ]
       ],
       "shape": {
        "columns": 11,
        "rows": 5
       }
      },
      "text/html": [
       "<div>\n",
       "<style scoped>\n",
       "    .dataframe tbody tr th:only-of-type {\n",
       "        vertical-align: middle;\n",
       "    }\n",
       "\n",
       "    .dataframe tbody tr th {\n",
       "        vertical-align: top;\n",
       "    }\n",
       "\n",
       "    .dataframe thead th {\n",
       "        text-align: right;\n",
       "    }\n",
       "</style>\n",
       "<table border=\"1\" class=\"dataframe\">\n",
       "  <thead>\n",
       "    <tr style=\"text-align: right;\">\n",
       "      <th></th>\n",
       "      <th>num_hyperlinks</th>\n",
       "      <th>num_suspicious_links</th>\n",
       "      <th>num_ip_urls</th>\n",
       "      <th>body_char_count</th>\n",
       "      <th>subject_char_count</th>\n",
       "      <th>urgency_keyword_count</th>\n",
       "      <th>num_capital_words</th>\n",
       "      <th>special_char_ratio</th>\n",
       "      <th>has_javascript</th>\n",
       "      <th>has_form_tag</th>\n",
       "      <th>processed_text</th>\n",
       "    </tr>\n",
       "  </thead>\n",
       "  <tbody>\n",
       "    <tr>\n",
       "      <th>0</th>\n",
       "      <td>0</td>\n",
       "      <td>0</td>\n",
       "      <td>0</td>\n",
       "      <td>1262.0</td>\n",
       "      <td>51.0</td>\n",
       "      <td>0</td>\n",
       "      <td>0</td>\n",
       "      <td>0.132420</td>\n",
       "      <td>0</td>\n",
       "      <td>0</td>\n",
       "      <td>start date hourahead hour start date hourahead...</td>\n",
       "    </tr>\n",
       "    <tr>\n",
       "      <th>1</th>\n",
       "      <td>1</td>\n",
       "      <td>0</td>\n",
       "      <td>0</td>\n",
       "      <td>330.0</td>\n",
       "      <td>21.0</td>\n",
       "      <td>0</td>\n",
       "      <td>0</td>\n",
       "      <td>0.048295</td>\n",
       "      <td>0</td>\n",
       "      <td>0</td>\n",
       "      <td>league site available league site set site las...</td>\n",
       "    </tr>\n",
       "    <tr>\n",
       "      <th>2</th>\n",
       "      <td>18</td>\n",
       "      <td>0</td>\n",
       "      <td>0</td>\n",
       "      <td>3128.0</td>\n",
       "      <td>42.0</td>\n",
       "      <td>3</td>\n",
       "      <td>0</td>\n",
       "      <td>0.086408</td>\n",
       "      <td>0</td>\n",
       "      <td>0</td>\n",
       "      <td>urgent autopay payment unsuccessful http www t...</td>\n",
       "    </tr>\n",
       "    <tr>\n",
       "      <th>3</th>\n",
       "      <td>0</td>\n",
       "      <td>0</td>\n",
       "      <td>0</td>\n",
       "      <td>700.0</td>\n",
       "      <td>39.0</td>\n",
       "      <td>0</td>\n",
       "      <td>0</td>\n",
       "      <td>0.071622</td>\n",
       "      <td>0</td>\n",
       "      <td>0</td>\n",
       "      <td>midwest power team lotus note access tana woul...</td>\n",
       "    </tr>\n",
       "    <tr>\n",
       "      <th>4</th>\n",
       "      <td>0</td>\n",
       "      <td>0</td>\n",
       "      <td>0</td>\n",
       "      <td>305.0</td>\n",
       "      <td>13.0</td>\n",
       "      <td>0</td>\n",
       "      <td>0</td>\n",
       "      <td>0.031348</td>\n",
       "      <td>0</td>\n",
       "      <td>0</td>\n",
       "      <td>mitsui cacs hello please find attached cacs ne...</td>\n",
       "    </tr>\n",
       "  </tbody>\n",
       "</table>\n",
       "</div>"
      ],
      "text/plain": [
       "   num_hyperlinks  num_suspicious_links  num_ip_urls  body_char_count  \\\n",
       "0               0                     0            0           1262.0   \n",
       "1               1                     0            0            330.0   \n",
       "2              18                     0            0           3128.0   \n",
       "3               0                     0            0            700.0   \n",
       "4               0                     0            0            305.0   \n",
       "\n",
       "   subject_char_count  urgency_keyword_count  num_capital_words  \\\n",
       "0                51.0                      0                  0   \n",
       "1                21.0                      0                  0   \n",
       "2                42.0                      3                  0   \n",
       "3                39.0                      0                  0   \n",
       "4                13.0                      0                  0   \n",
       "\n",
       "   special_char_ratio  has_javascript  has_form_tag  \\\n",
       "0            0.132420               0             0   \n",
       "1            0.048295               0             0   \n",
       "2            0.086408               0             0   \n",
       "3            0.071622               0             0   \n",
       "4            0.031348               0             0   \n",
       "\n",
       "                                      processed_text  \n",
       "0  start date hourahead hour start date hourahead...  \n",
       "1  league site available league site set site las...  \n",
       "2  urgent autopay payment unsuccessful http www t...  \n",
       "3  midwest power team lotus note access tana woul...  \n",
       "4  mitsui cacs hello please find attached cacs ne...  "
      ]
     },
     "metadata": {},
     "output_type": "display_data"
    },
    {
     "name": "stdout",
     "output_type": "stream",
     "text": [
      "\n",
      "Target (y):\n"
     ]
    },
    {
     "data": {
      "application/vnd.microsoft.datawrangler.viewer.v0+json": {
       "columns": [
        {
         "name": "index",
         "rawType": "int64",
         "type": "integer"
        },
        {
         "name": "label",
         "rawType": "int64",
         "type": "integer"
        }
       ],
       "ref": "efc5a9cc-9769-4bc6-a14a-9ec8440c49a5",
       "rows": [
        [
         "0",
         "0"
        ],
        [
         "1",
         "0"
        ],
        [
         "2",
         "1"
        ],
        [
         "3",
         "0"
        ],
        [
         "4",
         "0"
        ]
       ],
       "shape": {
        "columns": 1,
        "rows": 5
       }
      },
      "text/plain": [
       "0    0\n",
       "1    0\n",
       "2    1\n",
       "3    0\n",
       "4    0\n",
       "Name: label, dtype: int64"
      ]
     },
     "metadata": {},
     "output_type": "display_data"
    }
   ],
   "source": [
    "# The 'label' column is our target variable (y)\n",
    "y = df['label']\n",
    "\n",
    "# All other columns are our features (X)\n",
    "X = df.drop('label', axis=1)\n",
    "\n",
    "print(\"Features (X):\")\n",
    "display(X.head())\n",
    "print(\"\\nTarget (y):\")\n",
    "display(y.head())"
   ]
  },
  {
   "cell_type": "code",
   "execution_count": 3,
   "id": "d148d62c",
   "metadata": {},
   "outputs": [
    {
     "name": "stdout",
     "output_type": "stream",
     "text": [
      "Numeric Features: ['num_hyperlinks', 'num_suspicious_links', 'num_ip_urls', 'body_char_count', 'subject_char_count', 'urgency_keyword_count', 'num_capital_words', 'special_char_ratio', 'has_javascript', 'has_form_tag']\n",
      "Text Feature: processed_text\n",
      "\n",
      "Preprocessor configured successfully.\n"
     ]
    }
   ],
   "source": [
    "# Identify which columns are numeric and which is text\n",
    "numeric_features = X.select_dtypes(include=np.number).columns.tolist()\n",
    "text_feature = 'processed_text'\n",
    "\n",
    "print(f\"Numeric Features: {numeric_features}\")\n",
    "print(f\"Text Feature: {text_feature}\")\n",
    "\n",
    "# Create the preprocessing pipeline\n",
    "# 1. For text data: TfidfVectorizer to convert text into a matrix of TF-IDF features.\n",
    "# 2. For numeric data: StandardScaler to scale features (important for logistic regression).\n",
    "preprocessor = ColumnTransformer(\n",
    "    transformers=[\n",
    "        ('tfidf', TfidfVectorizer(), text_feature),\n",
    "        ('scaler', 'passthrough', numeric_features) # Using 'passthrough' for now, can add StandardScaler if needed\n",
    "    ],\n",
    "    remainder='drop' # Drop any columns we haven't specified\n",
    ")\n",
    "\n",
    "print(\"\\nPreprocessor configured successfully.\")"
   ]
  },
  {
   "cell_type": "code",
   "execution_count": 4,
   "id": "69370d73",
   "metadata": {},
   "outputs": [
    {
     "name": "stdout",
     "output_type": "stream",
     "text": [
      "Training set size: 10304 samples\n",
      "Evaluation set size: 2576 samples\n"
     ]
    }
   ],
   "source": [
    "X_train, X_test, y_train, y_test = train_test_split(\n",
    "    X, y, \n",
    "    test_size=0.2,  # 20% of the data will be used for evaluation\n",
    "    random_state=42, # Ensures the split is the same every time you run the code\n",
    "    stratify=y       # Important for imbalanced datasets\n",
    ")\n",
    "\n",
    "print(f\"Training set size: {X_train.shape[0]} samples\")\n",
    "print(f\"Evaluation set size: {X_test.shape[0]} samples\")"
   ]
  },
  {
   "cell_type": "code",
   "execution_count": 5,
   "id": "76958f40",
   "metadata": {},
   "outputs": [
    {
     "name": "stdout",
     "output_type": "stream",
     "text": [
      "Training the Logistic Regression model...\n",
      "Model training complete!\n"
     ]
    }
   ],
   "source": [
    "# Create the full pipeline\n",
    "# It first runs our preprocessor, then trains the classifier\n",
    "lr_pipeline = Pipeline(steps=[\n",
    "    ('preprocessor', preprocessor),\n",
    "    ('classifier', LogisticRegression(class_weight='balanced', random_state=42, max_iter=1000))\n",
    "])\n",
    "\n",
    "# Train the model on the training data\n",
    "print(\"Training the Logistic Regression model...\")\n",
    "lr_pipeline.fit(X_train, y_train)\n",
    "print(\"Model training complete!\")"
   ]
  },
  {
   "cell_type": "code",
   "execution_count": 6,
   "id": "0ec7e15a",
   "metadata": {},
   "outputs": [
    {
     "name": "stdout",
     "output_type": "stream",
     "text": [
      "Evaluating the model on the test set...\n",
      "\n",
      "--- Evaluation Results ---\n",
      "Balanced Accuracy: 0.9626\n",
      "AUC Score: 0.9972\n",
      "--------------------------\n",
      "\n",
      "Generating Confusion Matrix...\n"
     ]
    },
    {
     "data": {
      "image/png": "[encoded data removed]",
      "text/plain": [
       "<Figure size 600x600 with 2 Axes>"
      ]
     },
     "metadata": {},
     "output_type": "display_data"
    }
   ],
   "source": [
    "print(\"Evaluating the model on the test set...\")\n",
    "\n",
    "# Make predictions\n",
    "y_pred = lr_pipeline.predict(X_test)\n",
    "y_pred_proba = lr_pipeline.predict_proba(X_test)[:, 1] # Probabilities needed for AUC\n",
    "\n",
    "# --- Calculate Metrics ---\n",
    "# 1. Balanced Accuracy\n",
    "balanced_acc = balanced_accuracy_score(y_test, y_pred)\n",
    "# 2. AUC Score\n",
    "auc_score = roc_auc_score(y_test, y_pred_proba)\n",
    "\n",
    "print(\"\\n--- Evaluation Results ---\")\n",
    "print(f\"Balanced Accuracy: {balanced_acc:.4f}\")\n",
    "print(f\"AUC Score: {auc_score:.4f}\")\n",
    "print(\"--------------------------\\n\")\n",
    "\n",
    "\n",
    "# --- Visualize the Confusion Matrix ---\n",
    "# The confusion matrix shows us exactly what types of errors the model is making.\n",
    "print(\"Generating Confusion Matrix...\")\n",
    "cm = confusion_matrix(y_test, y_pred)\n",
    "\n",
    "disp = ConfusionMatrixDisplay(confusion_matrix=cm, display_labels=['Normal (0)', 'Phishing (1)'])\n",
    "fig, ax = plt.subplots(figsize=(6, 6))\n",
    "disp.plot(ax=ax, cmap='Blues')\n",
    "plt.title(\"Logistic Regression Confusion Matrix\")\n",
    "plt.show()"
   ]
  }
 ],
 "metadata": {
  "kernelspec": {
   "display_name": "Python 3",
   "language": "python",
   "name": "python3"
  },
  "language_info": {
   "codemirror_mode": {
    "name": "ipython",
    "version": 3
   },
   "file_extension": ".py",
   "mimetype": "text/x-python",
   "name": "python",
   "nbconvert_exporter": "python",
   "pygments_lexer": "ipython3",
   "version": "3.13.1"
  }
 },
 "nbformat": 4,
 "nbformat_minor": 5
}
