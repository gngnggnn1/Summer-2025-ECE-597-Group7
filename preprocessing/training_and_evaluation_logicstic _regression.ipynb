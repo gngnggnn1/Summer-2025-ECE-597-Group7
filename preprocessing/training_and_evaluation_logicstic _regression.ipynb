{
 "cells": [
  {
   "cell_type": "code",
   "execution_count": null,
   "id": "16e275ea",
   "metadata": {},
   "outputs": [],
   "source": [
    "import pandas as pd\n",
    "import numpy as np\n",
    "import matplotlib.pyplot as plt\n",
    "import seaborn as sns\n",
    "\n",
    "# Feature Engineering tools\n",
    "from sklearn.feature_extraction.text import TfidfVectorizer\n",
    "from sklearn.compose import ColumnTransformer\n",
    "from sklearn.pipeline import Pipeline\n",
    "\n",
    "# Model Training and Splitting\n",
    "from sklearn.model_selection import train_test_split\n",
    "\n",
    "# Models\n",
    "from sklearn.linear_model import LogisticRegression\n",
    "from sklearn.naive_bayes import MultinomialNB\n",
    "from sklearn.ensemble import RandomForestClassifier\n",
    "\n",
    "# Evaluation Metrics\n",
    "from sklearn.metrics import roc_auc_score, balanced_accuracy_score, confusion_matrix, ConfusionMatrixDisplay\n",
    "\n",
    "# --- Load your prepared dataset ---\n",
    "try:\n",
    "    df = pd.read_csv('ready_for_training.csv')\n",
    "    print(\"Dataset 'ready_for_training.csv' loaded successfully!\")\n",
    "    print(f\"Dataset contains {len(df)} rows.\")\n",
    "    # Fill any potential NaN values in processed_text, just in case\n",
    "    df['processed_text'] = df['processed_text'].fillna('')\n",
    "except FileNotFoundError:\n",
    "    print(\"FATAL ERROR: 'ready_for_training.csv' not found. Please ensure it's in the same folder.\")\n",
    "\n",
    "# Display the first few rows to confirm\n",
    "display(df.head())"
   ]
  }
 ],
 "metadata": {
  "language_info": {
   "name": "python"
  }
 },
 "nbformat": 4,
 "nbformat_minor": 5
}
